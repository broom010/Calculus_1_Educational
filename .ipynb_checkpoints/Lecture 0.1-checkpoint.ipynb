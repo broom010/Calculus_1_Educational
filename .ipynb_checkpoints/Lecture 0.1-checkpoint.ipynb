{
 "cells": [
  {
   "cell_type": "markdown",
   "metadata": {},
   "source": [
    "# CALCULUS I - Lecture 0.1\n",
    "\n",
    "## Overview\n",
    "\n",
    "We begin our study of calculus by asking what are function?  In answering this question, we will consider several tools for thinking about functions and gaining information from them.\n",
    "\n",
    "The key topics that we will cover are:\n",
    "\n",
    "-  What is a function vs a relation\n",
    "-  What does evaluating a function mean\n",
    "-  What are the domain and range of a function\n",
    "\n",
    "## Definition of a function\n",
    "**Simple Definition** - A **function** is a rule that assigns output values to a given set of input values.\n",
    "\n",
    "**More Complete Definition** - A **function** is a *relation* between two sets $A$ and $B$, that associates **one and only one** output value $y_i$, contained in $B$, to every $x_i$,contained in $A$.  The set $A$ is called the **domain** of the function, and the set $B$ is called the **codomain** of the function.\n",
    "\n",
    "**Note** - A **relation** is similar to a function, but it is allowed to assign more than one output to each input.\n",
    "\n",
    "\n",
    "\n",
    "## Visualizing the difference between functions and relations\n",
    "The following images show two posibilities for how a **function** can map from a set with three values to another set with three values.  *The code that you see in the next cell is using HTML to display two images that were made ahead of time.*"
   ]
  },
  {
   "cell_type": "code",
   "execution_count": 2,
   "metadata": {},
   "outputs": [
    {
     "data": {
      "text/html": [
       "<td> <img src='Images/Lecture_0/N1/function_map_1.png' alt='Drawing'/> </td>    <td> <img src='Images/Lecture_0/N1/function_map_2.png' alt='Drawing'/> </td> </tr>"
      ],
      "text/plain": [
       "<IPython.core.display.HTML object>"
      ]
     },
     "metadata": {},
     "output_type": "display_data"
    }
   ],
   "source": [
    "from IPython.display import HTML, display\n",
    "display(HTML(\"<td> <img src='Images/Lecture_0/N1/function_map_1.png' alt='Drawing'/> </td>    <td> <img src='Images/Lecture_0/N1/function_map_2.png' alt='Drawing'/> </td> </tr>\"))"
   ]
  },
  {
   "cell_type": "markdown",
   "metadata": {},
   "source": [
    "The following two examples are **not functions** from $A$ to $B$.  \n",
    "\n",
    "**Exercise 1:** Understand why"
   ]
  },
  {
   "cell_type": "code",
   "execution_count": 8,
   "metadata": {},
   "outputs": [
    {
     "data": {
      "text/html": [
       "<td> <img src='Images/Lecture_0/N1/relation_map_1.png' alt='Drawing'/> </td>    <td> <img src='Images/Lecture_0/N1/relation_map_2.png' alt='Drawing'/> </td> </tr>"
      ],
      "text/plain": [
       "<IPython.core.display.HTML object>"
      ]
     },
     "metadata": {},
     "output_type": "display_data"
    }
   ],
   "source": [
    "display(HTML(\"<td> <img src='Images/Lecture_0/N1/relation_map_1.png' alt='Drawing'/> </td>    <td> <img src='Images/Lecture_0/N1/relation_map_2.png' alt='Drawing'/> </td> </tr>\"))"
   ]
  },
  {
   "cell_type": "markdown",
   "metadata": {},
   "source": [
    "## Using python to create functions\n",
    "Python is a great general compute programming language with many benefits.  The reason that I chose to use Python, more specifically Jupyter notebooks, to teach calculus is because many tasks are easy to complete without needing to worry about the syntax of the programming language. For an introduction, check out [An Introduction to Python](http://introtopython.org/) and use the *Python Essentials* tab at the top of the window\n",
    "\n",
    "In order to utilize python for some of the tasks that we will want to complete, we will need to load a few modules that help with certain tasks.  The ones that we will use are packaged in the Anaconda distribution of Python.  Here is an overview of what we will use, and quick description of what they do:\n",
    "-  **Numpy:** Contains many common mathematical functions and operations.  *(Also great for working with vectors and matrices.)*\n",
    "-  **Pandas:** Great for displaying tables.  *(This package is used heavily in data science.)*\n",
    "-  **Matplotlib.pyplot:** General purpose graphing module.\n",
    "\n",
    "After we import these modules, we will use them to explore different ways that a function can be represented and how to use python to create these representations."
   ]
  },
  {
   "cell_type": "code",
   "execution_count": null,
   "metadata": {
    "collapsed": true
   },
   "outputs": [],
   "source": [
    "# This is a comment -- The following code imports the tools we need using common abbreviations for the modules\n",
    "import numpy as np\n",
    "import pandas as pd\n",
    "import matplotlib.pyplot as plt"
   ]
  },
  {
   "cell_type": "markdown",
   "metadata": {},
   "source": [
    "### Define three functions\n",
    "The functions that we will explore are $$f(x) = x^2\\qquad g(x) = 2x+1 \\qquad h(x) = \\sqrt{x+1}$$"
   ]
  },
  {
   "cell_type": "code",
   "execution_count": null,
   "metadata": {
    "collapsed": true
   },
   "outputs": [],
   "source": [
    "# Next we will define a few functions\n",
    "def f(x):\n",
    "    return x**2\n",
    "\n",
    "def g(x):\n",
    "    return 2*x+1\n",
    "\n",
    "def h(x):\n",
    "    return np.sqrt(x+1)"
   ]
  },
  {
   "cell_type": "markdown",
   "metadata": {},
   "source": [
    "## Define the domain\n",
    "The interval is a fundamental concept used in discussing subsets of the real numbers.  The main notion of an **interval** is that it contains all numbers that fall in between two endpoints.  They *type* of an interval is determined by whether we include or exclude one or both of the endpoints.\n",
    "\n",
    "Intervals show up in everyday life in a variety of ways.  If you have class from 10:00 AM to 10:50 AM, that is an interval of time.  \n",
    "\n",
    "If a director of a play wants to hire an actor/actress for the role of peter pan, they might want to be sective based on height.  It might be reasonable for the director to want some that is at least 5' tall, but less than 5' 8\".  This is another example of an interval.\n",
    "\n",
    "It is worth pointing out that the markings on a ruler do not constitute an interval.  Why is this you ask?  It is becaues the markings only convey a few of the infinite number of points from zero units to the length of the ruler.  It is important to grasp the idea that an interval contains everything between two points, and not merely *\"a lot\"*.\n",
    "\n",
    "Representing a domain that is an interval is impossible in a computer, because a computer can only represent a finite number of points in an interval. However, we can get an approxamation of an by specifying a starting point, and ending point, and the number of pieces that we want the interval to be broken into.  Keep this in mind as we continue."
   ]
  },
  {
   "cell_type": "code",
   "execution_count": null,
   "metadata": {
    "collapsed": true
   },
   "outputs": [],
   "source": [
    "# Next we define a domain for the functions\n",
    "A = np.linspace(-1,3,401)"
   ]
  },
  {
   "cell_type": "code",
   "execution_count": null,
   "metadata": {},
   "outputs": [],
   "source": [
    "# A way to visualize these points is with a Pandas DataFrame\n",
    "pd.DataFrame(A, columns = ['x'])"
   ]
  },
  {
   "cell_type": "markdown",
   "metadata": {},
   "source": [
    "## Graphing the functions\n",
    "The following bits of code show the graphs of each of the functions.  *Explore what some of the settings do*."
   ]
  },
  {
   "cell_type": "code",
   "execution_count": null,
   "metadata": {},
   "outputs": [],
   "source": [
    "plt.plot(A,f(A))\n",
    "plt.title('f(x)')\n",
    "plt.ylim(-5,9)\n",
    "plt.xlabel('x - values')\n",
    "plt.ylabel('y - values')\n",
    "plt.show()"
   ]
  },
  {
   "cell_type": "code",
   "execution_count": null,
   "metadata": {},
   "outputs": [],
   "source": [
    "plt.plot(A,g(A))\n",
    "plt.title('g(x)')\n",
    "plt.ylim(-1,9)\n",
    "plt.xlabel('x - values')\n",
    "plt.ylabel('y - values')\n",
    "plt.show()"
   ]
  },
  {
   "cell_type": "code",
   "execution_count": null,
   "metadata": {},
   "outputs": [],
   "source": [
    "plt.plot(A,h(A))\n",
    "plt.title('h(x)')\n",
    "plt.ylim(-1,9)\n",
    "plt.xlabel('x - values')\n",
    "plt.ylabel('y - values')\n",
    "plt.show()"
   ]
  },
  {
   "cell_type": "markdown",
   "metadata": {},
   "source": [
    "## Exploring functions using tabels\n",
    "The next pieces of code use the pandas module to make easy to read tables for each function.  We only show part of the tables because of their lengths."
   ]
  },
  {
   "cell_type": "code",
   "execution_count": null,
   "metadata": {},
   "outputs": [],
   "source": [
    "table1 = pd.DataFrame(f(A), index=A, columns=['y'])\n",
    "table1.index.name = 'x'\n",
    "table1.head(10)"
   ]
  },
  {
   "cell_type": "code",
   "execution_count": null,
   "metadata": {},
   "outputs": [],
   "source": [
    "table1 = pd.DataFrame(g(A), index=A, columns=['y'])\n",
    "table1.index.name = 'x'\n",
    "table1.head(10)"
   ]
  },
  {
   "cell_type": "code",
   "execution_count": null,
   "metadata": {},
   "outputs": [],
   "source": [
    "table1 = pd.DataFrame(h(A), index=A, columns=['y'])\n",
    "table1.index.name = 'x'\n",
    "table1.tail(10)"
   ]
  },
  {
   "cell_type": "markdown",
   "metadata": {},
   "source": [
    "## Evaluating functions\n",
    "Next we explore how to evaluate functions in Python.\n",
    "\n",
    "E.g. How do we calculate  $f(1)$  or $ f(3)$?  \n",
    "\n",
    "Well a simple way would be to simply plug it into the function that we already created and see what happens.  Let's do this in the following cell"
   ]
  },
  {
   "cell_type": "code",
   "execution_count": null,
   "metadata": {},
   "outputs": [],
   "source": [
    "print('f(1) = ' + str(f(1)))\n",
    "print('f(3) = ' + str(f(3)))"
   ]
  },
  {
   "cell_type": "markdown",
   "metadata": {},
   "source": [
    "These operations gave us an answer, but let's check that these answers are correct.  Since $f(x) = x^2$, we can probably perform the math in our heads to find that:\n",
    "\n",
    "$$f(1) = 1^2 = 1\\cdot 1 = 1 \\checkmark$$\n",
    "\n",
    "and\n",
    "\n",
    "$$f(3) = 3^2 = 3\\cdot 3 = 9 \\checkmark$$\n",
    "\n",
    "Another way that we can check that these answers are correct is to evaluate them manually in Python."
   ]
  },
  {
   "cell_type": "code",
   "execution_count": null,
   "metadata": {},
   "outputs": [],
   "source": [
    "print('f(1) = ' + str(1**2))\n",
    "print('f(3) = ' + str(3**2))"
   ]
  },
  {
   "cell_type": "markdown",
   "metadata": {},
   "source": [
    "Once again, we got the same answer.  It becomes especially important to check these types of things when a function is more complicated.\n",
    "\n",
    "**Exercise 2:** Write some code that will define the function\n",
    "\n",
    "$$F(x) = \\dfrac{\\dfrac{1}{2x+1}}{x^2-2x-15}$$\n",
    "\n",
    "and calculate $F(1)$.                    *(Answer: -0.020833333...)*"
   ]
  },
  {
   "cell_type": "code",
   "execution_count": null,
   "metadata": {},
   "outputs": [],
   "source": [
    "def F(x):\n",
    "    return #replace-with-expression\n",
    "\n",
    "print('F(1) = ' + str(F(1)))"
   ]
  },
  {
   "cell_type": "markdown",
   "metadata": {},
   "source": [
    "## Finding the domain and range of a function\n",
    "Many of the functions that you have been exposed to over the course of your mathematical education can be defined over the real numbers.  By this we mean that many functions can be evaluated at any real number that you pick.\n",
    "\n",
    "You have also encountered functions that can't be defined over the entire real numbers.  In most of the cases that you will deal with in calculus, a function is either:\n",
    "-  Defined on the entire real line, denoted $(-\\infty,\\infty)$.\n",
    "-  Defined everywhere on the real line except at a finite number of points, denoted $(-\\infty,\\infty)\\setminus \\{a_1, a_2,\\dots, a_n\\}$ *(meaning it's not defined at $a_1,a_2,\\dots,a_n$)*\n",
    "-  Defined on an interval, e.g. $[0,1], (0,1], [0,1), (0,1)$, where $[$ or $]$ means the point is included and $($ or $)$ means the point is excluded.\n",
    "-  Defined on a union (*combination*) of intervals, e.g. $[1,2]\\cup(3,6]$\n",
    "-  Or a combination of these types of sets"
   ]
  },
  {
   "cell_type": "markdown",
   "metadata": {},
   "source": [
    "### What happens in python when you try to evaluate at a point that it isn't defined?\n",
    "Recall that $h(x) = \\sqrt{x+1}$.  What will happen if the inside of the square root becomes negative? Let's find out."
   ]
  },
  {
   "cell_type": "code",
   "execution_count": null,
   "metadata": {},
   "outputs": [],
   "source": [
    "print(h(-2))"
   ]
  },
  {
   "cell_type": "markdown",
   "metadata": {},
   "source": [
    "It looks like we get an error.  It turns out that this is because package we are working with treats this as an invalid input into the function.  This reflects the fact that the square root function is only defined for positive values of $x$.\n",
    "\n",
    "For those that have familiarity with imaginary numbers might point out that $\\sqrt{-1} = i$, and therefore such an expression is defined.  It turns out that python can be made to interpret $\\sqrt{-1}$ in this way.  The trick is to express -1 as a complex number inside the square root, i.e. plug in $-1+0i$.  Let's see what happens if we do this.\n",
    "\n",
    "*Note: In python the imaginary number $i$ is represented with a $j$ instead.  This is a design choice in the programming language, and not an indicator that imaginary numbers are an issue in computers.*"
   ]
  },
  {
   "cell_type": "code",
   "execution_count": null,
   "metadata": {},
   "outputs": [],
   "source": [
    "np.sqrt(-1+0.j)"
   ]
  },
  {
   "cell_type": "markdown",
   "metadata": {},
   "source": [
    "**Exercise 3:** With this discussion in mind, what do you think that the domain of $h(x)$ is?  That is, what values, when plugged in to the function $h$ will return a real number?"
   ]
  },
  {
   "cell_type": "markdown",
   "metadata": {},
   "source": [
    "### General guidelines for finding the domain of a function.\n",
    "\n",
    "Broadly speaking, the functions that you will encounter in this course can fail to have the entire number line as their domains because of one of the following reasons:\n",
    "\n",
    "-  A divide by zero\n",
    "-  A square root of a negative number\n",
    "-  A logarithm of a non-positive ($\\leq 0$) number\n",
    "-  A restriction on the domain of the function (e.g. $\\sin^{-1}(x)$)\n",
    "\n",
    "**Example (divide by zero):** Find the domain of \n",
    "\n",
    "$$f(x) = \\dfrac{1}{x^2-2x-15}.$$\n",
    "\n",
    "The problems with trying to find the domain of the function above numerically it might require a lot of guessing and checking to decide what the issues are.  After we figure out *what* the issues can be, it can be difficult to find *where* they occur, i.e. which values of $x$ cause problems.\n",
    "\n",
    "My previous knowledge of problems like this suggest that the only issue that can arise in the domain of the function above stem from the possibility of dividing by zero.  Finding which values of $x$ can cause this issue amounts to solving the following equation:\n",
    "\n",
    "$$x^2-2x-15 = 0$$\n",
    "\n",
    "**Note:**\n",
    "There certainly are numerical ways to find approximate solutions to the equation above, but there are a few pitfalls.  Firstly, many of the methods used to solve such equations require knowledge of calculus.  Secondly, numerical methods require an initial guess for the solution(s) or a range that you would expect the solution to lie within.\n",
    "\n",
    "In addressing the first issue, I think you will agree that I shouldn't teach you a method that requires you to know calculus before we have even discussed calculus.  To the second issue, I would say that these difficulties are not too hard and can be overcome.  You could learn to reasonably approximate the solutions to the equation above using the **bisection method**.  However, since this is not part of the regular curriculum for a calculus course, I feel that you might be frustrated with me for teaching you a method that you will likely never use.  Especially since you have already learned all of the tools (quadratic formula and factoring) necessary to solve such an equation.\n",
    "\n",
    "**Solution 1**\n",
    "\n",
    "In the spirit of this being a mathematical lesson, let's find the solutions to the equation by using algebra.  The brute force way to solve such a problem is to apply the quadratic formula which says that the values of $x$ that satisfy the equation are given by:\n",
    "\n",
    "$$x = \\dfrac{-b\\pm \\sqrt{b^2-4ac}}{2a}$$\n",
    "\n",
    "For our equation, the means that\n",
    "\n",
    "$$x = \\dfrac{2\\pm\\sqrt{4-(-60)}}{2} = \\dfrac{2\\pm 8}{2} = -3\\,\\,\\mathrm{or}\\,\\, 5.$$\n",
    "\n",
    "**Solution 2**\n",
    "\n",
    "An arguably easier way to arrive at these answers is to factor the polynomial $x^2-2x-15$ as $(x+3)(x-5)$.  To get to this form, I made a guess and worked backwards.  Here is the process that went on as I got to this answer:\n",
    "\n",
    "1)  Since the coefficient on $x^2$ is $1$, the factored form will likely look like $(x\\pm ?)(x\\pm?)$.\n",
    "\n",
    "2)  Since the constant term is negative, the signs above have to be opposite, meaning it looks like $(x+?)(x-?)$.\n",
    "\n",
    "3)  To fill in the question marks, I need two numbers that multiply to $-15$ and add to $-2$.  This means they are $3$ and $5$, and the $3$ has to be the positive one and $5$ has to be the negative one.\n",
    "\n",
    "**Conclusion:** The work that we did above shows that $x=-3$ and $x=5$ are the only values of $x$ that will make the denominator in $f(x)$ equal to zero.  Since this is the only type of issue that can come up, the domain of $f(x)$ is the entire real number line except for these two values.  We can represent this using mathematical symbols by:\n",
    "\n",
    "$$(-\\infty,\\infty)\\setminus \\{-3,5\\}$$\n",
    "\n",
    "If we try to plug these numbers into our function, they cause issues, and this can be seen with the following code:"
   ]
  },
  {
   "cell_type": "code",
   "execution_count": null,
   "metadata": {},
   "outputs": [],
   "source": [
    "def f(x):\n",
    "    return 1/(x**2-2*x-15)\n",
    "\n",
    "print(f(-3))"
   ]
  },
  {
   "cell_type": "code",
   "execution_count": null,
   "metadata": {},
   "outputs": [],
   "source": [
    "print(f(5))"
   ]
  },
  {
   "cell_type": "code",
   "execution_count": null,
   "metadata": {
    "collapsed": true
   },
   "outputs": [],
   "source": []
  }
 ],
 "metadata": {
  "kernelspec": {
   "display_name": "Python 3",
   "language": "python",
   "name": "python3"
  },
  "language_info": {
   "codemirror_mode": {
    "name": "ipython",
    "version": 3
   },
   "file_extension": ".py",
   "mimetype": "text/x-python",
   "name": "python",
   "nbconvert_exporter": "python",
   "pygments_lexer": "ipython3",
   "version": "3.6.2"
  }
 },
 "nbformat": 4,
 "nbformat_minor": 2
}
