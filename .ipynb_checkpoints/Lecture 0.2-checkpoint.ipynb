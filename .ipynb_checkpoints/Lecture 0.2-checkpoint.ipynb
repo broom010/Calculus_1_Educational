{
 "cells": [
  {
   "cell_type": "markdown",
   "metadata": {},
   "source": [
    "# CALCULUS I - Lecture 0.2\n",
    "\n",
    "## Overview\n",
    "\n",
    "In this lesson we will learn about function composition.  This will be an important concept needed in later lectures.\n",
    "\n",
    "The key topics that we will cover this time are:\n",
    "\n",
    "-  How do we compose functions\n",
    "-  How does function composition allow us to talk about inverse functions\n",
    "-  What are some step we can take to try to find the inverse of a function\n",
    "\n",
    "## Composing functions\n",
    "An important operation that you will have to get used to is the composition of functions.  This will become **extremely important** when you learn the chain rule.  In this section, we will cover how to compose functions as well as how to decompose functions into simpler components.\n",
    "\n",
    "### Definition\n",
    "If \n",
    "-  $f$ is a function from a subset, $A$, of the real numbers to a subset, $B$, of the real numbers,\n",
    "\n",
    "and \n",
    "\n",
    "-  $g$ is a function from $B$ to a subset, $C$, of the real numbers,\n",
    "\n",
    "\n",
    "then there is a new function that we can construct from $A$ to $C$ called the composition of $g$ and $f$.  \n",
    "\n",
    "This function will take an input from $A$ and provide an output in $C$.  The way we construct this function is by saying that when we plug in a value $x$ from $A$, we will first calculate $f(x)$, which will be an element of $B$, and since $B$ in the domain of $g$, we will plug this value into $g$.  Doing so, produces the value $g\\left(f(x)\\right)$\n",
    "\n",
    "This can be visualized through the following diagram."
   ]
  },
  {
   "cell_type": "code",
   "execution_count": 6,
   "metadata": {},
   "outputs": [
    {
     "data": {
      "text/html": [
       "<center><td> <img src='Images/Lecture_0/N1/composition_map.png' alt='Drawing'/> </td></tr>"
      ],
      "text/plain": [
       "<IPython.core.display.HTML object>"
      ]
     },
     "metadata": {},
     "output_type": "display_data"
    }
   ],
   "source": [
    "display(HTML(\"<center><td> <img src='Images/Lecture_0/N1/composition_map.png' alt='Drawing'/> </td></tr>\"))"
   ]
  },
  {
   "cell_type": "code",
   "execution_count": null,
   "metadata": {
    "collapsed": true
   },
   "outputs": [],
   "source": []
  }
 ],
 "metadata": {
  "kernelspec": {
   "display_name": "Python 3",
   "language": "python",
   "name": "python3"
  },
  "language_info": {
   "codemirror_mode": {
    "name": "ipython",
    "version": 3
   },
   "file_extension": ".py",
   "mimetype": "text/x-python",
   "name": "python",
   "nbconvert_exporter": "python",
   "pygments_lexer": "ipython3",
   "version": "3.6.2"
  }
 },
 "nbformat": 4,
 "nbformat_minor": 2
}
