{
 "cells": [
  {
   "cell_type": "markdown",
   "metadata": {},
   "source": [
    "# CALCULUS I - Lecture 0.1\n",
    "\n",
    "## Overview\n",
    "\n",
    "We begin our study of calculus by asking what are function?  In answering this question, we will consider several tools for thinking about functions and gaining information from them.\n",
    "\n",
    "The key topics that we will cover are:\n",
    "\n",
    "-  What is a function vs a relation\n",
    "-  What does evaluating a function mean\n",
    "-  What are the domain and range of a function\n",
    "\n",
    "## Definition of a function\n",
    "**Simple Definition** - A **function** is a rule that assigns output values to a given set of input values.\n",
    "\n",
    "**More Complete Definition** - A **function** is a *relation* between two sets $A$ and $B$, that associates **one and only one** output value $y_i$, contained in $B$, to every $x_i$,contained in $A$.  The set $A$ is called the **domain** of the function, and the set $B$ is called the **codomain** of the function.\n",
    "\n",
    "**Note** - A **relation** is similar to a function, but it is allowed to assign more than one output to each input.\n",
    "\n",
    "\n",
    "\n",
    "## Visualizing the difference between functions and relations\n",
    "The following images show two posibilities for how a **function** can map from a set with three values to another set with three values.  *The code that you see in the next cell is using HTML to display two images that were made ahead of time.*"
   ]
  },
  {
   "cell_type": "code",
   "execution_count": 1,
   "metadata": {},
   "outputs": [
    {
     "data": {
      "text/html": [
       "<td> <img src='Images/1/function_map_1.png' alt='Drawing'/> </td>    <td> <img src='Images/1/function_map_2.png' alt='Drawing'/> </td> </tr>"
      ],
      "text/plain": [
       "<IPython.core.display.HTML object>"
      ]
     },
     "metadata": {},
     "output_type": "display_data"
    }
   ],
   "source": [
    "from IPython.display import HTML, display\n",
    "display(HTML(\"<td> <img src='Images/1/function_map_1.png' alt='Drawing'/> </td>    <td> <img src='Images/1/function_map_2.png' alt='Drawing'/> </td> </tr>\"))"
   ]
  },
  {
   "cell_type": "markdown",
   "metadata": {},
   "source": [
    "The following two examples are **not functions** from $A$ to $B$.  \n",
    "\n",
    "**Exercise 1:** Understand why"
   ]
  },
  {
   "cell_type": "code",
   "execution_count": 2,
   "metadata": {},
   "outputs": [
    {
     "data": {
      "text/html": [
       "<td> <img src='Images/1/relation_map_1.png' alt='Drawing'/> </td>    <td> <img src='Images/1/relation_map_2.png' alt='Drawing'/> </td> </tr>"
      ],
      "text/plain": [
       "<IPython.core.display.HTML object>"
      ]
     },
     "metadata": {},
     "output_type": "display_data"
    }
   ],
   "source": [
    "display(HTML(\"<td> <img src='Images/1/relation_map_1.png' alt='Drawing'/> </td>    <td> <img src='Images/1/relation_map_2.png' alt='Drawing'/> </td> </tr>\"))"
   ]
  },
  {
   "cell_type": "markdown",
   "metadata": {},
   "source": [
    "## Using python to create functions\n",
    "Python is a great general compute programming language with many benefits.  The reason that I chose to use Python, more specifically Jupyter notebooks, to teach calculus is because many tasks are easy to complete without needing to worry about the syntax of the programming language. For an introduction, check out [An Introduction to Python](http://introtopython.org/) and use the *Python Essentials* tab at the top of the window\n",
    "\n",
    "In order to utilize python for some of the tasks that we will want to complete, we will need to load a few modules that help with certain tasks.  The ones that we will use are packaged in the Anaconda distribution of Python.  Here is an overview of what we will use, and quick description of what they do:\n",
    "-  **Numpy:** Contains many common mathematical functions and operations.  *(Also great for working with vectors and matrices.)*\n",
    "-  **Pandas:** Great for displaying tables.  *(This package is used heavily in data science.)*\n",
    "-  **Matplotlib.pyplot:** General purpose graphing module.\n",
    "\n",
    "After we import these modules, we will use them to explore different ways that a function can be represented and how to use python to create these representations."
   ]
  },
  {
   "cell_type": "code",
   "execution_count": 4,
   "metadata": {
    "collapsed": true
   },
   "outputs": [],
   "source": [
    "# This is a comment -- The following code imports the tools we need using common abbreviations for the modules\n",
    "import numpy as np\n",
    "import pandas as pd\n",
    "import matplotlib.pyplot as plt"
   ]
  },
  {
   "cell_type": "markdown",
   "metadata": {},
   "source": [
    "### Define three functions\n",
    "The functions that we will explore are $$f(x) = x^2\\qquad g(x) = 2x+1 \\qquad h(x) = \\sqrt{x+1}$$"
   ]
  },
  {
   "cell_type": "code",
   "execution_count": 5,
   "metadata": {
    "collapsed": true
   },
   "outputs": [],
   "source": [
    "# Next we will define a few functions\n",
    "def f(x):\n",
    "    return x**2\n",
    "\n",
    "def g(x):\n",
    "    return 2*x+1\n",
    "\n",
    "def h(x):\n",
    "    return np.sqrt(x+1)"
   ]
  },
  {
   "cell_type": "markdown",
   "metadata": {},
   "source": [
    "## Define the domain\n",
    "The interval is a fundamental concept used in discussing subsets of the real numbers.  The main notion of an **interval** is that it contains all numbers that fall in between two endpoints.  They *type* of an interval is determined by whether we include or exclude one or both of the endpoints.\n",
    "\n",
    "Intervals show up in everyday life in a variety of ways.  If you have class from 10:00 AM to 10:50 AM, that is an interval of time.  \n",
    "\n",
    "If a director of a play wants to hire an actor/actress for the role of peter pan, they might want to be sective based on height.  It might be reasonable for the director to want some that is at least 5' tall, but less than 5' 8\".  This is another example of an interval.\n",
    "\n",
    "It is worth pointing out that the markings on a ruler do not constitute an interval.  Why is this you ask?  It is becaues the markings only convey a few of the infinite number of points from zero units to the length of the ruler.  It is important to grasp the idea that an interval contains everything between two points, and not merely *\"a lot\"*.\n",
    "\n",
    "Representing a domain that is an interval is impossible in a computer, because a computer can only represent a finite number of points in an interval. However, we can get an approxamation of an by specifying a starting point, and ending point, and the number of pieces that we want the interval to be broken into.  Keep this in mind as we continue."
   ]
  },
  {
   "cell_type": "code",
   "execution_count": 6,
   "metadata": {
    "collapsed": true
   },
   "outputs": [],
   "source": [
    "# Next we define a domain for the functions\n",
    "A = np.linspace(-1,3,401)"
   ]
  },
  {
   "cell_type": "code",
   "execution_count": 7,
   "metadata": {},
   "outputs": [
    {
     "data": {
      "text/html": [
       "<div>\n",
       "<style>\n",
       "    .dataframe thead tr:only-child th {\n",
       "        text-align: right;\n",
       "    }\n",
       "\n",
       "    .dataframe thead th {\n",
       "        text-align: left;\n",
       "    }\n",
       "\n",
       "    .dataframe tbody tr th {\n",
       "        vertical-align: top;\n",
       "    }\n",
       "</style>\n",
       "<table border=\"1\" class=\"dataframe\">\n",
       "  <thead>\n",
       "    <tr style=\"text-align: right;\">\n",
       "      <th></th>\n",
       "      <th>x</th>\n",
       "    </tr>\n",
       "  </thead>\n",
       "  <tbody>\n",
       "    <tr>\n",
       "      <th>0</th>\n",
       "      <td>-1.00</td>\n",
       "    </tr>\n",
       "    <tr>\n",
       "      <th>1</th>\n",
       "      <td>-0.99</td>\n",
       "    </tr>\n",
       "    <tr>\n",
       "      <th>2</th>\n",
       "      <td>-0.98</td>\n",
       "    </tr>\n",
       "    <tr>\n",
       "      <th>3</th>\n",
       "      <td>-0.97</td>\n",
       "    </tr>\n",
       "    <tr>\n",
       "      <th>4</th>\n",
       "      <td>-0.96</td>\n",
       "    </tr>\n",
       "    <tr>\n",
       "      <th>5</th>\n",
       "      <td>-0.95</td>\n",
       "    </tr>\n",
       "    <tr>\n",
       "      <th>6</th>\n",
       "      <td>-0.94</td>\n",
       "    </tr>\n",
       "    <tr>\n",
       "      <th>7</th>\n",
       "      <td>-0.93</td>\n",
       "    </tr>\n",
       "    <tr>\n",
       "      <th>8</th>\n",
       "      <td>-0.92</td>\n",
       "    </tr>\n",
       "    <tr>\n",
       "      <th>9</th>\n",
       "      <td>-0.91</td>\n",
       "    </tr>\n",
       "    <tr>\n",
       "      <th>10</th>\n",
       "      <td>-0.90</td>\n",
       "    </tr>\n",
       "    <tr>\n",
       "      <th>11</th>\n",
       "      <td>-0.89</td>\n",
       "    </tr>\n",
       "    <tr>\n",
       "      <th>12</th>\n",
       "      <td>-0.88</td>\n",
       "    </tr>\n",
       "    <tr>\n",
       "      <th>13</th>\n",
       "      <td>-0.87</td>\n",
       "    </tr>\n",
       "    <tr>\n",
       "      <th>14</th>\n",
       "      <td>-0.86</td>\n",
       "    </tr>\n",
       "    <tr>\n",
       "      <th>15</th>\n",
       "      <td>-0.85</td>\n",
       "    </tr>\n",
       "    <tr>\n",
       "      <th>16</th>\n",
       "      <td>-0.84</td>\n",
       "    </tr>\n",
       "    <tr>\n",
       "      <th>17</th>\n",
       "      <td>-0.83</td>\n",
       "    </tr>\n",
       "    <tr>\n",
       "      <th>18</th>\n",
       "      <td>-0.82</td>\n",
       "    </tr>\n",
       "    <tr>\n",
       "      <th>19</th>\n",
       "      <td>-0.81</td>\n",
       "    </tr>\n",
       "    <tr>\n",
       "      <th>20</th>\n",
       "      <td>-0.80</td>\n",
       "    </tr>\n",
       "    <tr>\n",
       "      <th>21</th>\n",
       "      <td>-0.79</td>\n",
       "    </tr>\n",
       "    <tr>\n",
       "      <th>22</th>\n",
       "      <td>-0.78</td>\n",
       "    </tr>\n",
       "    <tr>\n",
       "      <th>23</th>\n",
       "      <td>-0.77</td>\n",
       "    </tr>\n",
       "    <tr>\n",
       "      <th>24</th>\n",
       "      <td>-0.76</td>\n",
       "    </tr>\n",
       "    <tr>\n",
       "      <th>25</th>\n",
       "      <td>-0.75</td>\n",
       "    </tr>\n",
       "    <tr>\n",
       "      <th>26</th>\n",
       "      <td>-0.74</td>\n",
       "    </tr>\n",
       "    <tr>\n",
       "      <th>27</th>\n",
       "      <td>-0.73</td>\n",
       "    </tr>\n",
       "    <tr>\n",
       "      <th>28</th>\n",
       "      <td>-0.72</td>\n",
       "    </tr>\n",
       "    <tr>\n",
       "      <th>29</th>\n",
       "      <td>-0.71</td>\n",
       "    </tr>\n",
       "    <tr>\n",
       "      <th>...</th>\n",
       "      <td>...</td>\n",
       "    </tr>\n",
       "    <tr>\n",
       "      <th>371</th>\n",
       "      <td>2.71</td>\n",
       "    </tr>\n",
       "    <tr>\n",
       "      <th>372</th>\n",
       "      <td>2.72</td>\n",
       "    </tr>\n",
       "    <tr>\n",
       "      <th>373</th>\n",
       "      <td>2.73</td>\n",
       "    </tr>\n",
       "    <tr>\n",
       "      <th>374</th>\n",
       "      <td>2.74</td>\n",
       "    </tr>\n",
       "    <tr>\n",
       "      <th>375</th>\n",
       "      <td>2.75</td>\n",
       "    </tr>\n",
       "    <tr>\n",
       "      <th>376</th>\n",
       "      <td>2.76</td>\n",
       "    </tr>\n",
       "    <tr>\n",
       "      <th>377</th>\n",
       "      <td>2.77</td>\n",
       "    </tr>\n",
       "    <tr>\n",
       "      <th>378</th>\n",
       "      <td>2.78</td>\n",
       "    </tr>\n",
       "    <tr>\n",
       "      <th>379</th>\n",
       "      <td>2.79</td>\n",
       "    </tr>\n",
       "    <tr>\n",
       "      <th>380</th>\n",
       "      <td>2.80</td>\n",
       "    </tr>\n",
       "    <tr>\n",
       "      <th>381</th>\n",
       "      <td>2.81</td>\n",
       "    </tr>\n",
       "    <tr>\n",
       "      <th>382</th>\n",
       "      <td>2.82</td>\n",
       "    </tr>\n",
       "    <tr>\n",
       "      <th>383</th>\n",
       "      <td>2.83</td>\n",
       "    </tr>\n",
       "    <tr>\n",
       "      <th>384</th>\n",
       "      <td>2.84</td>\n",
       "    </tr>\n",
       "    <tr>\n",
       "      <th>385</th>\n",
       "      <td>2.85</td>\n",
       "    </tr>\n",
       "    <tr>\n",
       "      <th>386</th>\n",
       "      <td>2.86</td>\n",
       "    </tr>\n",
       "    <tr>\n",
       "      <th>387</th>\n",
       "      <td>2.87</td>\n",
       "    </tr>\n",
       "    <tr>\n",
       "      <th>388</th>\n",
       "      <td>2.88</td>\n",
       "    </tr>\n",
       "    <tr>\n",
       "      <th>389</th>\n",
       "      <td>2.89</td>\n",
       "    </tr>\n",
       "    <tr>\n",
       "      <th>390</th>\n",
       "      <td>2.90</td>\n",
       "    </tr>\n",
       "    <tr>\n",
       "      <th>391</th>\n",
       "      <td>2.91</td>\n",
       "    </tr>\n",
       "    <tr>\n",
       "      <th>392</th>\n",
       "      <td>2.92</td>\n",
       "    </tr>\n",
       "    <tr>\n",
       "      <th>393</th>\n",
       "      <td>2.93</td>\n",
       "    </tr>\n",
       "    <tr>\n",
       "      <th>394</th>\n",
       "      <td>2.94</td>\n",
       "    </tr>\n",
       "    <tr>\n",
       "      <th>395</th>\n",
       "      <td>2.95</td>\n",
       "    </tr>\n",
       "    <tr>\n",
       "      <th>396</th>\n",
       "      <td>2.96</td>\n",
       "    </tr>\n",
       "    <tr>\n",
       "      <th>397</th>\n",
       "      <td>2.97</td>\n",
       "    </tr>\n",
       "    <tr>\n",
       "      <th>398</th>\n",
       "      <td>2.98</td>\n",
       "    </tr>\n",
       "    <tr>\n",
       "      <th>399</th>\n",
       "      <td>2.99</td>\n",
       "    </tr>\n",
       "    <tr>\n",
       "      <th>400</th>\n",
       "      <td>3.00</td>\n",
       "    </tr>\n",
       "  </tbody>\n",
       "</table>\n",
       "<p>401 rows × 1 columns</p>\n",
       "</div>"
      ],
      "text/plain": [
       "        x\n",
       "0   -1.00\n",
       "1   -0.99\n",
       "2   -0.98\n",
       "3   -0.97\n",
       "4   -0.96\n",
       "5   -0.95\n",
       "6   -0.94\n",
       "7   -0.93\n",
       "8   -0.92\n",
       "9   -0.91\n",
       "10  -0.90\n",
       "11  -0.89\n",
       "12  -0.88\n",
       "13  -0.87\n",
       "14  -0.86\n",
       "15  -0.85\n",
       "16  -0.84\n",
       "17  -0.83\n",
       "18  -0.82\n",
       "19  -0.81\n",
       "20  -0.80\n",
       "21  -0.79\n",
       "22  -0.78\n",
       "23  -0.77\n",
       "24  -0.76\n",
       "25  -0.75\n",
       "26  -0.74\n",
       "27  -0.73\n",
       "28  -0.72\n",
       "29  -0.71\n",
       "..    ...\n",
       "371  2.71\n",
       "372  2.72\n",
       "373  2.73\n",
       "374  2.74\n",
       "375  2.75\n",
       "376  2.76\n",
       "377  2.77\n",
       "378  2.78\n",
       "379  2.79\n",
       "380  2.80\n",
       "381  2.81\n",
       "382  2.82\n",
       "383  2.83\n",
       "384  2.84\n",
       "385  2.85\n",
       "386  2.86\n",
       "387  2.87\n",
       "388  2.88\n",
       "389  2.89\n",
       "390  2.90\n",
       "391  2.91\n",
       "392  2.92\n",
       "393  2.93\n",
       "394  2.94\n",
       "395  2.95\n",
       "396  2.96\n",
       "397  2.97\n",
       "398  2.98\n",
       "399  2.99\n",
       "400  3.00\n",
       "\n",
       "[401 rows x 1 columns]"
      ]
     },
     "execution_count": 7,
     "metadata": {},
     "output_type": "execute_result"
    }
   ],
   "source": [
    "# A way to visualize these points is with a Pandas DataFrame\n",
    "pd.DataFrame(A, columns = ['x'])"
   ]
  },
  {
   "cell_type": "markdown",
   "metadata": {},
   "source": [
    "## Graphing the functions\n",
    "The following bits of code show the graphs of each of the functions.  *Explore what some of the settings do*."
   ]
  },
  {
   "cell_type": "code",
   "execution_count": 8,
   "metadata": {},
   "outputs": [
    {
     "data": {
      "image/png": "[encoded data removed]",
      "text/plain": [
       "<matplotlib.figure.Figure at 0x1ea6b7a1748>"
      ]
     },
     "metadata": {},
     "output_type": "display_data"
    }
   ],
   "source": [
    "plt.plot(A,f(A))\n",
    "plt.title('f(x)')\n",
    "plt.ylim(-5,9)\n",
    "plt.xlabel('x - values')\n",
    "plt.ylabel('y - values')\n",
    "plt.show()"
   ]
  },
  {
   "cell_type": "code",
   "execution_count": 9,
   "metadata": {},
   "outputs": [
    {
     "data": {
      "image/png": "[encoded data removed]",
      "text/plain": [
       "<matplotlib.figure.Figure at 0x1ea6b9d7f60>"
      ]
     },
     "metadata": {},
     "output_type": "display_data"
    }
   ],
   "source": [
    "plt.plot(A,g(A))\n",
    "plt.title('g(x)')\n",
    "plt.ylim(-1,9)\n",
    "plt.xlabel('x - values')\n",
    "plt.ylabel('y - values')\n",
    "plt.show()"
   ]
  },
  {
   "cell_type": "code",
   "execution_count": 10,
   "metadata": {},
   "outputs": [
    {
     "data": {
      "image/png": "[encoded data removed]",
      "text/plain": [
       "<matplotlib.figure.Figure at 0x1ea6bc4fb38>"
      ]
     },
     "metadata": {},
     "output_type": "display_data"
    }
   ],
   "source": [
    "plt.plot(A,h(A))\n",
    "plt.title('h(x)')\n",
    "plt.ylim(-1,9)\n",
    "plt.xlabel('x - values')\n",
    "plt.ylabel('y - values')\n",
    "plt.show()"
   ]
  },
  {
   "cell_type": "markdown",
   "metadata": {},
   "source": [
    "## Exploring functions using tabels\n",
    "The next pieces of code use the pandas module to make easy to read tables for each function.  We only show part of the tables because of their lengths."
   ]
  },
  {
   "cell_type": "code",
   "execution_count": 11,
   "metadata": {},
   "outputs": [
    {
     "data": {
      "text/html": [
       "<div>\n",
       "<style>\n",
       "    .dataframe thead tr:only-child th {\n",
       "        text-align: right;\n",
       "    }\n",
       "\n",
       "    .dataframe thead th {\n",
       "        text-align: left;\n",
       "    }\n",
       "\n",
       "    .dataframe tbody tr th {\n",
       "        vertical-align: top;\n",
       "    }\n",
       "</style>\n",
       "<table border=\"1\" class=\"dataframe\">\n",
       "  <thead>\n",
       "    <tr style=\"text-align: right;\">\n",
       "      <th></th>\n",
       "      <th>y</th>\n",
       "    </tr>\n",
       "    <tr>\n",
       "      <th>x</th>\n",
       "      <th></th>\n",
       "    </tr>\n",
       "  </thead>\n",
       "  <tbody>\n",
       "    <tr>\n",
       "      <th>-1.00</th>\n",
       "      <td>1.0000</td>\n",
       "    </tr>\n",
       "    <tr>\n",
       "      <th>-0.99</th>\n",
       "      <td>0.9801</td>\n",
       "    </tr>\n",
       "    <tr>\n",
       "      <th>-0.98</th>\n",
       "      <td>0.9604</td>\n",
       "    </tr>\n",
       "    <tr>\n",
       "      <th>-0.97</th>\n",
       "      <td>0.9409</td>\n",
       "    </tr>\n",
       "    <tr>\n",
       "      <th>-0.96</th>\n",
       "      <td>0.9216</td>\n",
       "    </tr>\n",
       "    <tr>\n",
       "      <th>-0.95</th>\n",
       "      <td>0.9025</td>\n",
       "    </tr>\n",
       "    <tr>\n",
       "      <th>-0.94</th>\n",
       "      <td>0.8836</td>\n",
       "    </tr>\n",
       "    <tr>\n",
       "      <th>-0.93</th>\n",
       "      <td>0.8649</td>\n",
       "    </tr>\n",
       "    <tr>\n",
       "      <th>-0.92</th>\n",
       "      <td>0.8464</td>\n",
       "    </tr>\n",
       "    <tr>\n",
       "      <th>-0.91</th>\n",
       "      <td>0.8281</td>\n",
       "    </tr>\n",
       "  </tbody>\n",
       "</table>\n",
       "</div>"
      ],
      "text/plain": [
       "            y\n",
       "x            \n",
       "-1.00  1.0000\n",
       "-0.99  0.9801\n",
       "-0.98  0.9604\n",
       "-0.97  0.9409\n",
       "-0.96  0.9216\n",
       "-0.95  0.9025\n",
       "-0.94  0.8836\n",
       "-0.93  0.8649\n",
       "-0.92  0.8464\n",
       "-0.91  0.8281"
      ]
     },
     "execution_count": 11,
     "metadata": {},
     "output_type": "execute_result"
    }
   ],
   "source": [
    "table1 = pd.DataFrame(f(A), index=A, columns=['y'])\n",
    "table1.index.name = 'x'\n",
    "table1.head(10)"
   ]
  },
  {
   "cell_type": "code",
   "execution_count": 12,
   "metadata": {},
   "outputs": [
    {
     "data": {
      "text/html": [
       "<div>\n",
       "<style>\n",
       "    .dataframe thead tr:only-child th {\n",
       "        text-align: right;\n",
       "    }\n",
       "\n",
       "    .dataframe thead th {\n",
       "        text-align: left;\n",
       "    }\n",
       "\n",
       "    .dataframe tbody tr th {\n",
       "        vertical-align: top;\n",
       "    }\n",
       "</style>\n",
       "<table border=\"1\" class=\"dataframe\">\n",
       "  <thead>\n",
       "    <tr style=\"text-align: right;\">\n",
       "      <th></th>\n",
       "      <th>y</th>\n",
       "    </tr>\n",
       "    <tr>\n",
       "      <th>x</th>\n",
       "      <th></th>\n",
       "    </tr>\n",
       "  </thead>\n",
       "  <tbody>\n",
       "    <tr>\n",
       "      <th>-1.00</th>\n",
       "      <td>-1.00</td>\n",
       "    </tr>\n",
       "    <tr>\n",
       "      <th>-0.99</th>\n",
       "      <td>-0.98</td>\n",
       "    </tr>\n",
       "    <tr>\n",
       "      <th>-0.98</th>\n",
       "      <td>-0.96</td>\n",
       "    </tr>\n",
       "    <tr>\n",
       "      <th>-0.97</th>\n",
       "      <td>-0.94</td>\n",
       "    </tr>\n",
       "    <tr>\n",
       "      <th>-0.96</th>\n",
       "      <td>-0.92</td>\n",
       "    </tr>\n",
       "    <tr>\n",
       "      <th>-0.95</th>\n",
       "      <td>-0.90</td>\n",
       "    </tr>\n",
       "    <tr>\n",
       "      <th>-0.94</th>\n",
       "      <td>-0.88</td>\n",
       "    </tr>\n",
       "    <tr>\n",
       "      <th>-0.93</th>\n",
       "      <td>-0.86</td>\n",
       "    </tr>\n",
       "    <tr>\n",
       "      <th>-0.92</th>\n",
       "      <td>-0.84</td>\n",
       "    </tr>\n",
       "    <tr>\n",
       "      <th>-0.91</th>\n",
       "      <td>-0.82</td>\n",
       "    </tr>\n",
       "  </tbody>\n",
       "</table>\n",
       "</div>"
      ],
      "text/plain": [
       "          y\n",
       "x          \n",
       "-1.00 -1.00\n",
       "-0.99 -0.98\n",
       "-0.98 -0.96\n",
       "-0.97 -0.94\n",
       "-0.96 -0.92\n",
       "-0.95 -0.90\n",
       "-0.94 -0.88\n",
       "-0.93 -0.86\n",
       "-0.92 -0.84\n",
       "-0.91 -0.82"
      ]
     },
     "execution_count": 12,
     "metadata": {},
     "output_type": "execute_result"
    }
   ],
   "source": [
    "table1 = pd.DataFrame(g(A), index=A, columns=['y'])\n",
    "table1.index.name = 'x'\n",
    "table1.head(10)"
   ]
  },
  {
   "cell_type": "code",
   "execution_count": 13,
   "metadata": {},
   "outputs": [
    {
     "data": {
      "text/html": [
       "<div>\n",
       "<style>\n",
       "    .dataframe thead tr:only-child th {\n",
       "        text-align: right;\n",
       "    }\n",
       "\n",
       "    .dataframe thead th {\n",
       "        text-align: left;\n",
       "    }\n",
       "\n",
       "    .dataframe tbody tr th {\n",
       "        vertical-align: top;\n",
       "    }\n",
       "</style>\n",
       "<table border=\"1\" class=\"dataframe\">\n",
       "  <thead>\n",
       "    <tr style=\"text-align: right;\">\n",
       "      <th></th>\n",
       "      <th>y</th>\n",
       "    </tr>\n",
       "    <tr>\n",
       "      <th>x</th>\n",
       "      <th></th>\n",
       "    </tr>\n",
       "  </thead>\n",
       "  <tbody>\n",
       "    <tr>\n",
       "      <th>2.91</th>\n",
       "      <td>1.977372</td>\n",
       "    </tr>\n",
       "    <tr>\n",
       "      <th>2.92</th>\n",
       "      <td>1.979899</td>\n",
       "    </tr>\n",
       "    <tr>\n",
       "      <th>2.93</th>\n",
       "      <td>1.982423</td>\n",
       "    </tr>\n",
       "    <tr>\n",
       "      <th>2.94</th>\n",
       "      <td>1.984943</td>\n",
       "    </tr>\n",
       "    <tr>\n",
       "      <th>2.95</th>\n",
       "      <td>1.987461</td>\n",
       "    </tr>\n",
       "    <tr>\n",
       "      <th>2.96</th>\n",
       "      <td>1.989975</td>\n",
       "    </tr>\n",
       "    <tr>\n",
       "      <th>2.97</th>\n",
       "      <td>1.992486</td>\n",
       "    </tr>\n",
       "    <tr>\n",
       "      <th>2.98</th>\n",
       "      <td>1.994994</td>\n",
       "    </tr>\n",
       "    <tr>\n",
       "      <th>2.99</th>\n",
       "      <td>1.997498</td>\n",
       "    </tr>\n",
       "    <tr>\n",
       "      <th>3.00</th>\n",
       "      <td>2.000000</td>\n",
       "    </tr>\n",
       "  </tbody>\n",
       "</table>\n",
       "</div>"
      ],
      "text/plain": [
       "             y\n",
       "x             \n",
       "2.91  1.977372\n",
       "2.92  1.979899\n",
       "2.93  1.982423\n",
       "2.94  1.984943\n",
       "2.95  1.987461\n",
       "2.96  1.989975\n",
       "2.97  1.992486\n",
       "2.98  1.994994\n",
       "2.99  1.997498\n",
       "3.00  2.000000"
      ]
     },
     "execution_count": 13,
     "metadata": {},
     "output_type": "execute_result"
    }
   ],
   "source": [
    "table1 = pd.DataFrame(h(A), index=A, columns=['y'])\n",
    "table1.index.name = 'x'\n",
    "table1.tail(10)"
   ]
  },
  {
   "cell_type": "markdown",
   "metadata": {},
   "source": [
    "## Evaluating functions\n",
    "Next we explore how to evaluate functions in Python.\n",
    "\n",
    "E.g. How do we calculate  $f(1)$  or $ f(3)$?  \n",
    "\n",
    "Well a simple way would be to simply plug it into the function that we already created and see what happens.  Let's do this in the following cell"
   ]
  },
  {
   "cell_type": "code",
   "execution_count": 14,
   "metadata": {},
   "outputs": [
    {
     "name": "stdout",
     "output_type": "stream",
     "text": [
      "f(1) = 1\n",
      "f(3) = 9\n"
     ]
    }
   ],
   "source": [
    "print('f(1) = ' + str(f(1)))\n",
    "print('f(3) = ' + str(f(3)))"
   ]
  },
  {
   "cell_type": "markdown",
   "metadata": {},
   "source": [
    "These operations gave us an answer, but let's check that these answers are correct.  Since $f(x) = x^2$, we can probably perform the math in our heads to find that:\n",
    "\n",
    "$$f(1) = 1^2 = 1\\cdot 1 = 1 \\checkmark$$\n",
    "\n",
    "and\n",
    "\n",
    "$$f(3) = 3^2 = 3\\cdot 3 = 9 \\checkmark$$\n",
    "\n",
    "Another way that we can check that these answers are correct is to evaluate them manually in Python."
   ]
  },
  {
   "cell_type": "code",
   "execution_count": 15,
   "metadata": {},
   "outputs": [
    {
     "name": "stdout",
     "output_type": "stream",
     "text": [
      "f(1) = 1\n",
      "f(3) = 9\n"
     ]
    }
   ],
   "source": [
    "print('f(1) = ' + str(1**2))\n",
    "print('f(3) = ' + str(3**2))"
   ]
  },
  {
   "cell_type": "markdown",
   "metadata": {},
   "source": [
    "Once again, we got the same answer.  It becomes especially important to check these types of things when a function is more complicated.\n",
    "\n",
    "**Exercise 2:** Write some code that will define the function\n",
    "\n",
    "$$F(x) = \\dfrac{\\dfrac{1}{2x+1}}{x^2-2x-15}$$\n",
    "\n",
    "and calculate $F(1)$.                    *(Answer: -0.020833333...)*"
   ]
  },
  {
   "cell_type": "code",
   "execution_count": 16,
   "metadata": {},
   "outputs": [
    {
     "name": "stdout",
     "output_type": "stream",
     "text": [
      "F(1) = None\n"
     ]
    }
   ],
   "source": [
    "def F(x):\n",
    "    return #replace-with-expression\n",
    "\n",
    "print('F(1) = ' + str(F(1)))"
   ]
  },
  {
   "cell_type": "markdown",
   "metadata": {},
   "source": [
    "## Finding the domain and range of a function\n",
    "Many of the functions that you have been exposed to over the course of your mathematical education can be defined over the real numbers.  By this we mean that many functions can be evaluated at any real number that you pick.\n",
    "\n",
    "You have also encountered functions that can't be defined over the entire real numbers.  In most of the cases that you will deal with in calculus, a function is either:\n",
    "-  Defined on the entire real line, denoted $(-\\infty,\\infty)$.\n",
    "-  Defined everywhere on the real line except at a finite number of points, denoted $(-\\infty,\\infty)\\setminus \\{a_1, a_2,\\dots, a_n\\}$ *(meaning it's not defined at $a_1,a_2,\\dots,a_n$)*\n",
    "-  Defined on an interval, e.g. $[0,1], (0,1], [0,1), (0,1)$, where $[$ or $]$ means the point is included and $($ or $)$ means the point is excluded.\n",
    "-  Defined on a union (*combination*) of intervals, e.g. $[1,2]\\cup(3,6]$\n",
    "-  Or a combination of these types of sets"
   ]
  },
  {
   "cell_type": "markdown",
   "metadata": {},
   "source": [
    "### What happens in python when you try to evaluate at a point that it isn't defined?\n",
    "Recall that $h(x) = \\sqrt{x+1}$.  What will happen if the inside of the square root becomes negative? Let's find out."
   ]
  },
  {
   "cell_type": "code",
   "execution_count": 17,
   "metadata": {},
   "outputs": [
    {
     "name": "stdout",
     "output_type": "stream",
     "text": [
      "nan\n"
     ]
    },
    {
     "name": "stderr",
     "output_type": "stream",
     "text": [
      "C:\\Program Files (x86)\\Microsoft Visual Studio\\Shared\\Anaconda3_64\\lib\\site-packages\\ipykernel_launcher.py:9: RuntimeWarning: invalid value encountered in sqrt\n",
      "  if __name__ == '__main__':\n"
     ]
    }
   ],
   "source": [
    "print(h(-2))"
   ]
  },
  {
   "cell_type": "markdown",
   "metadata": {},
   "source": [
    "It looks like we get an error.  It turns out that this is because package we are working with treats this as an invalid input into the function.  This reflects the fact that the square root function is only defined for positive values of $x$.\n",
    "\n",
    "For those that have familiarity with imaginary numbers might point out that $\\sqrt{-1} = i$, and therefore such an expression is defined.  It turns out that python can be made to interpret $\\sqrt{-1}$ in this way.  The trick is to express -1 as a complex number inside the square root, i.e. plug in $-1+0i$.  Let's see what happens if we do this.\n",
    "\n",
    "*Note: In python the imaginary number $i$ is represented with a $j$ instead.  This is a design choice in the programming language, and not an indicator that imaginary numbers are an issue in computers.*"
   ]
  },
  {
   "cell_type": "code",
   "execution_count": 18,
   "metadata": {},
   "outputs": [
    {
     "data": {
      "text/plain": [
       "1j"
      ]
     },
     "execution_count": 18,
     "metadata": {},
     "output_type": "execute_result"
    }
   ],
   "source": [
    "np.sqrt(-1+0.j)"
   ]
  },
  {
   "cell_type": "markdown",
   "metadata": {},
   "source": [
    "**Exercise 3:** With this discussion in mind, what do you think that the domain of $h(x)$ is?  That is, what values, when plugged in to the function $h$ will return a real number?"
   ]
  },
  {
   "cell_type": "markdown",
   "metadata": {},
   "source": [
    "### General guidelines for finding the domain of a function.\n",
    "\n",
    "Broadly speaking, the functions that you will encounter in this course can fail to have the entire number line as their domains because of one of the following reasons:\n",
    "\n",
    "-  A divide by zero\n",
    "-  A square root of a negative number\n",
    "-  A logarithm of a non-positive ($\\leq 0$) number\n",
    "-  A restriction on the domain of the function (e.g. $\\sin^{-1}(x)$)\n",
    "\n",
    "**Example (divide by zero):** Find the domain of \n",
    "\n",
    "$$f(x) = \\dfrac{1}{x^2-2x-15}.$$\n",
    "\n",
    "The problems with trying to find the domain of the function above numerically it might require a lot of guessing and checking to decide what the issues are.  After we figure out *what* the issues can be, it can be difficult to find *where* they occur, i.e. which values of $x$ cause problems.\n",
    "\n",
    "My previous knowledge of problems like this suggest that the only issue that can arise in the domain of the function above stem from the possibility of dividing by zero.  Finding which values of $x$ can cause this issue amounts to solving the following equation:\n",
    "\n",
    "$$x^2-2x-15 = 0$$\n",
    "\n",
    "**Note:**\n",
    "There certainly are numerical ways to find approximate solutions to the equation above, but there are a few pitfalls.  Firstly, many of the methods used to solve such equations require knowledge of calculus.  Secondly, numerical methods require an initial guess for the solution(s) or a range that you would expect the solution to lie within.\n",
    "\n",
    "In addressing the first issue, I think you will agree that I shouldn't teach you a method that requires you to know calculus before we have even discussed calculus.  To the second issue, I would say that these difficulties are not too hard and can be overcome.  You could learn to reasonably approximate the solutions to the equation above using the **bisection method**.  However, since this is not part of the regular curriculum for a calculus course, I feel that you might be frustrated with me for teaching you a method that you will likely never use.  Especially since you have already learned all of the tools (quadratic formula and factoring) necessary to solve such an equation.\n",
    "\n",
    "**Solution 1**\n",
    "\n",
    "In the spirit of this being a mathematical lesson, let's find the solutions to the equation by using algebra.  The brute force way to solve such a problem is to apply the quadratic formula which says that the values of $x$ that satisfy the equation are given by:\n",
    "\n",
    "$$x = \\dfrac{-b\\pm \\sqrt{b^2-4ac}}{2a}$$\n",
    "\n",
    "For our equation, the means that\n",
    "\n",
    "$$x = \\dfrac{2\\pm\\sqrt{4-(-60)}}{2} = \\dfrac{2\\pm 8}{2} = -3\\,\\,\\mathrm{or}\\,\\, 5.$$\n",
    "\n",
    "**Solution 2**\n",
    "\n",
    "An arguably easier way to arrive at these answers is to factor the polynomial $x^2-2x-15$ as $(x+3)(x-5)$.  To get to this form, I made a guess and worked backwards.  Here is the process that went on as I got to this answer:\n",
    "\n",
    "1)  Since the coefficient on $x^2$ is $1$, the factored form will likely look like $(x\\pm ?)(x\\pm?)$.\n",
    "\n",
    "2)  Since the constant term is negative, the signs above have to be opposite, meaning it looks like $(x+?)(x-?)$.\n",
    "\n",
    "3)  To fill in the question marks, I need two numbers that multiply to $-15$ and add to $-2$.  This means they are $3$ and $5$, and the $3$ has to be the positive one and $5$ has to be the negative one.\n",
    "\n",
    "**Conclusion:** The work that we did above shows that $x=-3$ and $x=5$ are the only values of $x$ that will make the denominator in $f(x)$ equal to zero.  Since this is the only type of issue that can come up, the domain of $f(x)$ is the entire real number line except for these two values.  We can represent this using mathematical symbols by:\n",
    "\n",
    "$$(-\\infty,\\infty)\\setminus \\{-3,5\\}$$\n",
    "\n",
    "If we try to plug these numbers into our function, they cause issues, and this can be seen with the following code:"
   ]
  },
  {
   "cell_type": "code",
   "execution_count": 19,
   "metadata": {},
   "outputs": [
    {
     "ename": "ZeroDivisionError",
     "evalue": "division by zero",
     "output_type": "error",
     "traceback": [
      "\u001b[1;31m---------------------------------------------------------------------------\u001b[0m",
      "\u001b[1;31mZeroDivisionError\u001b[0m                         Traceback (most recent call last)",
      "\u001b[1;32m<ipython-input-19-8ebe61c46d5a>\u001b[0m in \u001b[0;36m<module>\u001b[1;34m()\u001b[0m\n\u001b[0;32m      2\u001b[0m     \u001b[1;32mreturn\u001b[0m \u001b[1;36m1\u001b[0m\u001b[1;33m/\u001b[0m\u001b[1;33m(\u001b[0m\u001b[0mx\u001b[0m\u001b[1;33m**\u001b[0m\u001b[1;36m2\u001b[0m\u001b[1;33m-\u001b[0m\u001b[1;36m2\u001b[0m\u001b[1;33m*\u001b[0m\u001b[0mx\u001b[0m\u001b[1;33m-\u001b[0m\u001b[1;36m15\u001b[0m\u001b[1;33m)\u001b[0m\u001b[1;33m\u001b[0m\u001b[0m\n\u001b[0;32m      3\u001b[0m \u001b[1;33m\u001b[0m\u001b[0m\n\u001b[1;32m----> 4\u001b[1;33m \u001b[0mprint\u001b[0m\u001b[1;33m(\u001b[0m\u001b[0mf\u001b[0m\u001b[1;33m(\u001b[0m\u001b[1;33m-\u001b[0m\u001b[1;36m3\u001b[0m\u001b[1;33m)\u001b[0m\u001b[1;33m)\u001b[0m\u001b[1;33m\u001b[0m\u001b[0m\n\u001b[0m",
      "\u001b[1;32m<ipython-input-19-8ebe61c46d5a>\u001b[0m in \u001b[0;36mf\u001b[1;34m(x)\u001b[0m\n\u001b[0;32m      1\u001b[0m \u001b[1;32mdef\u001b[0m \u001b[0mf\u001b[0m\u001b[1;33m(\u001b[0m\u001b[0mx\u001b[0m\u001b[1;33m)\u001b[0m\u001b[1;33m:\u001b[0m\u001b[1;33m\u001b[0m\u001b[0m\n\u001b[1;32m----> 2\u001b[1;33m     \u001b[1;32mreturn\u001b[0m \u001b[1;36m1\u001b[0m\u001b[1;33m/\u001b[0m\u001b[1;33m(\u001b[0m\u001b[0mx\u001b[0m\u001b[1;33m**\u001b[0m\u001b[1;36m2\u001b[0m\u001b[1;33m-\u001b[0m\u001b[1;36m2\u001b[0m\u001b[1;33m*\u001b[0m\u001b[0mx\u001b[0m\u001b[1;33m-\u001b[0m\u001b[1;36m15\u001b[0m\u001b[1;33m)\u001b[0m\u001b[1;33m\u001b[0m\u001b[0m\n\u001b[0m\u001b[0;32m      3\u001b[0m \u001b[1;33m\u001b[0m\u001b[0m\n\u001b[0;32m      4\u001b[0m \u001b[0mprint\u001b[0m\u001b[1;33m(\u001b[0m\u001b[0mf\u001b[0m\u001b[1;33m(\u001b[0m\u001b[1;33m-\u001b[0m\u001b[1;36m3\u001b[0m\u001b[1;33m)\u001b[0m\u001b[1;33m)\u001b[0m\u001b[1;33m\u001b[0m\u001b[0m\n",
      "\u001b[1;31mZeroDivisionError\u001b[0m: division by zero"
     ]
    }
   ],
   "source": [
    "def f(x):\n",
    "    return 1/(x**2-2*x-15)\n",
    "\n",
    "print(f(-3))"
   ]
  },
  {
   "cell_type": "code",
   "execution_count": 20,
   "metadata": {},
   "outputs": [
    {
     "ename": "ZeroDivisionError",
     "evalue": "division by zero",
     "output_type": "error",
     "traceback": [
      "\u001b[1;31m---------------------------------------------------------------------------\u001b[0m",
      "\u001b[1;31mZeroDivisionError\u001b[0m                         Traceback (most recent call last)",
      "\u001b[1;32m<ipython-input-20-fae753091045>\u001b[0m in \u001b[0;36m<module>\u001b[1;34m()\u001b[0m\n\u001b[1;32m----> 1\u001b[1;33m \u001b[0mprint\u001b[0m\u001b[1;33m(\u001b[0m\u001b[0mf\u001b[0m\u001b[1;33m(\u001b[0m\u001b[1;36m5\u001b[0m\u001b[1;33m)\u001b[0m\u001b[1;33m)\u001b[0m\u001b[1;33m\u001b[0m\u001b[0m\n\u001b[0m",
      "\u001b[1;32m<ipython-input-19-8ebe61c46d5a>\u001b[0m in \u001b[0;36mf\u001b[1;34m(x)\u001b[0m\n\u001b[0;32m      1\u001b[0m \u001b[1;32mdef\u001b[0m \u001b[0mf\u001b[0m\u001b[1;33m(\u001b[0m\u001b[0mx\u001b[0m\u001b[1;33m)\u001b[0m\u001b[1;33m:\u001b[0m\u001b[1;33m\u001b[0m\u001b[0m\n\u001b[1;32m----> 2\u001b[1;33m     \u001b[1;32mreturn\u001b[0m \u001b[1;36m1\u001b[0m\u001b[1;33m/\u001b[0m\u001b[1;33m(\u001b[0m\u001b[0mx\u001b[0m\u001b[1;33m**\u001b[0m\u001b[1;36m2\u001b[0m\u001b[1;33m-\u001b[0m\u001b[1;36m2\u001b[0m\u001b[1;33m*\u001b[0m\u001b[0mx\u001b[0m\u001b[1;33m-\u001b[0m\u001b[1;36m15\u001b[0m\u001b[1;33m)\u001b[0m\u001b[1;33m\u001b[0m\u001b[0m\n\u001b[0m\u001b[0;32m      3\u001b[0m \u001b[1;33m\u001b[0m\u001b[0m\n\u001b[0;32m      4\u001b[0m \u001b[0mprint\u001b[0m\u001b[1;33m(\u001b[0m\u001b[0mf\u001b[0m\u001b[1;33m(\u001b[0m\u001b[1;33m-\u001b[0m\u001b[1;36m3\u001b[0m\u001b[1;33m)\u001b[0m\u001b[1;33m)\u001b[0m\u001b[1;33m\u001b[0m\u001b[0m\n",
      "\u001b[1;31mZeroDivisionError\u001b[0m: division by zero"
     ]
    }
   ],
   "source": [
    "print(f(5))"
   ]
  },
  {
   "cell_type": "markdown",
   "metadata": {},
   "source": [
    "### Finding the range of a function\n",
    "It would be nearly impossible for me to give you a process that would find the domain of any function that you encounter.  This is because there are so many possibilites for what can happen with the range of a function.  There are many special exceptions and many different types of functions.\n",
    "\n",
    "#### Polynomials\n",
    "\n",
    "So I'll try to give you some guiding principles.  First, let's talk about **polynomials**.\n",
    "\n",
    "A polynomial function is a function that only contains combinations of powers of the variable(s) multiplied by real numbers.  What do I mean by this?  Here are some examples:\n",
    "\n",
    "-  $f(x) = 3x^{4}$\n",
    "<br>\n",
    "<br>\n",
    "-  $f(x) = 3x^{4}+x+2$\n",
    "<br>\n",
    "<br>\n",
    "-  $f(x) = ax^2+bx+c$\n",
    "\n",
    "Here are some examples that aren't polynomials:\n",
    "\n",
    "-  $f(x) = \\dfrac{1}{3x^{4}}$\n",
    "<br>\n",
    "<br>\n",
    "-  $f(x) = x^{2}+\\sqrt{x}+2$\n",
    "<br>\n",
    "<br>\n",
    "-  $f(x) = \\sin(x)$\n",
    "\n",
    "The **degree** of a polynomial is the highest power of the variable(s) that show up in the polynomial.  Using the degree of a polynomial, we can say a few things about the range of a polynomial.  \n",
    "\n",
    "-  If a function $f(x)$ is a polynomail that has an odd degree, then the range is $(-\\infty, \\infty)$\n",
    "\n",
    "-  If a function $f(x)$ is a polynomail that has an even degree, then the range is $(-\\infty, a]$ or $[a,\\infty)$\n",
    "\n",
    "To see why this is, let's graph a couple of polynomials.  *I also included an option to look at $h(x) = \\tan^{-1}(x)$.*"
   ]
  },
  {
   "cell_type": "code",
   "execution_count": 21,
   "metadata": {
    "collapsed": true
   },
   "outputs": [],
   "source": [
    "# Change f(x) and g(x) to other polynomials if you want\n",
    "def f1(x):\n",
    "    return x**2+-x+2\n",
    "\n",
    "def g1(x):\n",
    "    return x**3+1\n",
    "\n",
    "def h1(x):\n",
    "    return np.arctan(x)"
   ]
  },
  {
   "cell_type": "code",
   "execution_count": 22,
   "metadata": {
    "collapsed": true
   },
   "outputs": [],
   "source": [
    "# This code will make our graphs interactive\n",
    "from ipywidgets import interactive\n",
    "\n",
    "# This makes a plotting function that has variables that will change the graph when the user modifies them\n",
    "def p1(function, domain=5):\n",
    "    plt.figure(1)\n",
    "    x = np.linspace(-domain,domain,4000)\n",
    "    plt.plot(x, function(x))\n",
    "    plt.title('Exploring the Range of a Function')\n",
    "    plt.xlabel('x - values')\n",
    "    plt.ylabel('y - values')    \n",
    "    plt.show()"
   ]
  },
  {
   "cell_type": "markdown",
   "metadata": {},
   "source": [
    "**Exercise 3:** In the following interactive plot, look at how the y-axis changes as you increase the domain.  What do you notice?  Are parts of the axis changing? Are there parts of the axis that aren't changing?"
   ]
  },
  {
   "cell_type": "code",
   "execution_count": 23,
   "metadata": {},
   "outputs": [
    {
     "data": {
      "application/vnd.jupyter.widget-view+json": {
       "model_id": "f32eaff37df24a41ae9c8abef2114ca3",
       "version_major": 2,
       "version_minor": 0
      },
      "text/plain": [
       "A Jupyter Widget"
      ]
     },
     "metadata": {},
     "output_type": "display_data"
    }
   ],
   "source": [
    "# This creates the plot\n",
    "interactive_plot = interactive(p1, function={'f(x)': f1, 'g(x)': g1, 'h(x)': h1}, domain = (5, 100, 10))\n",
    "output = interactive_plot.children[-1]\n",
    "\n",
    "interactive_plot"
   ]
  },
  {
   "cell_type": "markdown",
   "metadata": {},
   "source": [
    "#### Rational functions\n",
    "\n",
    "Another common type of function that you will encounter is a rational function.  This is a function that is given by a fraction (or ratio) of two polynomials.  The general form of such a function looks like:\n",
    "\n",
    "$$f(x) = \\dfrac{P(x)}{Q(x)}$$\n",
    "\n",
    "Here are a few concrete example of such funcitons:\n",
    "\n",
    "-  $f(x) = \\dfrac{1}{x}$\n",
    "<br>\n",
    "<br>\n",
    "-  $f(x) = \\dfrac{2x+1}{x^2+3x-10}$"
   ]
  },
  {
   "cell_type": "markdown",
   "metadata": {},
   "source": [
    "Let's see what the range of these functions can look like."
   ]
  },
  {
   "cell_type": "code",
   "execution_count": 24,
   "metadata": {
    "collapsed": true
   },
   "outputs": [],
   "source": [
    "# Change f(x) and g(x) to other polynomials if you want\n",
    "def f2(x):\n",
    "    return 1/x\n",
    "\n",
    "def g2(x):\n",
    "    return 1/x**2\n",
    "\n",
    "def h2(x):\n",
    "    return (2*x+1)/(x**2+3*x-10)"
   ]
  },
  {
   "cell_type": "code",
   "execution_count": 25,
   "metadata": {
    "collapsed": true
   },
   "outputs": [],
   "source": [
    "# This makes a plotting function that has variables that will change the graph when the user modifies them\n",
    "def p(function, domain=4, yl = 10):\n",
    "    plt.figure(2)\n",
    "    x = np.linspace(-domain,domain,4000)\n",
    "    plt.plot(x, function(x))\n",
    "    plt.title('Exploring the Range of a Function')\n",
    "    plt.xlabel('x - values')\n",
    "    plt.ylabel('y - values')\n",
    "    plt.ylim(-yl,yl)\n",
    "    plt.show()"
   ]
  },
  {
   "cell_type": "code",
   "execution_count": 26,
   "metadata": {},
   "outputs": [
    {
     "data": {
      "application/vnd.jupyter.widget-view+json": {
       "model_id": "37b1564f54aa4e5abe4129364ed24b44",
       "version_major": 2,
       "version_minor": 0
      },
      "text/plain": [
       "A Jupyter Widget"
      ]
     },
     "metadata": {},
     "output_type": "display_data"
    }
   ],
   "source": [
    "# This will make our plots\n",
    "interactive_plot = interactive(p, function={'f(x)': f2, 'g(x)': g2, 'h(x)': h2}, domain = (2, 16, 1), yl = (5, 1000, 100))\n",
    "output = interactive_plot.children[-1]\n",
    "\n",
    "interactive_plot"
   ]
  },
  {
   "cell_type": "markdown",
   "metadata": {},
   "source": [
    "**Note:** If you encounter an error with the code above, ask yourself what is going on, and is this because a coding error, a problem with the math, or a problem with how math is handled in a computer.\n",
    "\n",
    "Generally for rational functions, the range will be one the following possibilites:\n",
    "\n",
    "-  $(-\\infty,\\infty)$\n",
    "-  $(-\\infty,a)$\n",
    "-  $(a,\\infty)$ \n",
    "\n",
    "The type of interval depends on the degrees of the numerator and denominator and common factors that they share.  We will discuss this more when we learn the concept of a **limit**."
   ]
  },
  {
   "cell_type": "markdown",
   "metadata": {},
   "source": [
    "### Overview of finding the range of a function\n",
    "It takes a lot of experience and practice to be able to quickly determine the range of a fucntion.  Here are some guidelines to keep in mind:\n",
    "\n",
    "-  The degree of a polynomial gives a piece of information about the range\n",
    "-  The behavior at a divide by zero gives a piece of information about the range\n",
    "-  Trigonometric functions generally have fixed ranges (e.g. sin(x), cos(x), arctan(x), etc.)\n",
    "-  Sometimes you can get a good idea about what the range is by graphing a function and changing the domain scale\n",
    "-  When you encounter a new function, try to understand what its range is and why it does or does not have restrictions"
   ]
  }
 ],
 "metadata": {
  "kernelspec": {
   "display_name": "Python 3",
   "language": "python",
   "name": "python3"
  },
  "language_info": {
   "codemirror_mode": {
    "name": "ipython",
    "version": 3
   },
   "file_extension": ".py",
   "mimetype": "text/x-python",
   "name": "python",
   "nbconvert_exporter": "python",
   "pygments_lexer": "ipython3",
   "version": "3.6.2"
  }
 },
 "nbformat": 4,
 "nbformat_minor": 2
}
